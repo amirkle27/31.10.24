{
 "cells": [
  {
   "cell_type": "code",
   "execution_count": 36,
   "id": "7b2601af-b491-4ddf-925b-fc7faa9a171f",
   "metadata": {},
   "outputs": [],
   "source": [
    "import numpy as np\n"
   ]
  },
  {
   "cell_type": "code",
   "execution_count": 37,
   "id": "bc69f7b3-a4ca-4152-88cf-d3495cb0348c",
   "metadata": {},
   "outputs": [],
   "source": [
    "nums_list = []\n"
   ]
  },
  {
   "cell_type": "code",
   "execution_count": 38,
   "id": "5833a2b0-62dc-4264-b593-be23b5f8a5c5",
   "metadata": {},
   "outputs": [
    {
     "name": "stdin",
     "output_type": "stream",
     "text": [
      "Enter a number 1\n",
      "Enter a number 2\n",
      "Enter a number 3\n",
      "Enter a number 4\n",
      "Enter a number 5\n"
     ]
    },
    {
     "name": "stdout",
     "output_type": "stream",
     "text": [
      "Initial list is [1, 2, 3, 4, 5]\n"
     ]
    }
   ],
   "source": [
    "for num in range (5):\n",
    "    num = int(input(\"Enter a number\"))\n",
    "    nums_list.append(num)\n",
    "print(f\"Initial list is {nums_list}\")"
   ]
  },
  {
   "cell_type": "code",
   "execution_count": 39,
   "id": "765a2961-654e-425b-a8fa-61a80d08b5e1",
   "metadata": {},
   "outputs": [],
   "source": [
    "nums_array = np.array(nums_list)"
   ]
  },
  {
   "cell_type": "code",
   "execution_count": 40,
   "id": "9520a307-777f-4849-9a62-7150514b4848",
   "metadata": {},
   "outputs": [
    {
     "name": "stdout",
     "output_type": "stream",
     "text": [
      "Then as Array - [1 2 3 4 5]\n",
      "<class 'str'>\n"
     ]
    }
   ],
   "source": [
    "print(f\"Then as Array - {nums_array}\")\n",
    "print(type(f\"As can be seen here - {nums_array}\"))"
   ]
  },
  {
   "cell_type": "code",
   "execution_count": 41,
   "id": "f00d17a2-db7f-4aa4-af24-1a8108c286af",
   "metadata": {},
   "outputs": [
    {
     "name": "stdout",
     "output_type": "stream",
     "text": [
      "Biggest number in the array is 5\n"
     ]
    }
   ],
   "source": [
    "print(f\"Biggest number in the array is {nums_array.max()}\")"
   ]
  },
  {
   "cell_type": "code",
   "execution_count": 42,
   "id": "b8942c99-21eb-44a2-a753-9daadf76452a",
   "metadata": {},
   "outputs": [
    {
     "name": "stdout",
     "output_type": "stream",
     "text": [
      "Smallest number in the array is 1\n"
     ]
    }
   ],
   "source": [
    "print(f\"Smallest number in the array is {nums_array.min()}\")"
   ]
  },
  {
   "cell_type": "code",
   "execution_count": 43,
   "id": "1b9c6bce-3b6a-4197-8caf-80bfda680d43",
   "metadata": {},
   "outputs": [
    {
     "name": "stdout",
     "output_type": "stream",
     "text": [
      "Then the shape of the array is - (5,)\n"
     ]
    }
   ],
   "source": [
    "print(f\"Then the shape of the array is - {nums_array.shape}\")"
   ]
  },
  {
   "cell_type": "code",
   "execution_count": 44,
   "id": "bc804eae-71ba-48be-9b7d-72a39430e2f6",
   "metadata": {},
   "outputs": [
    {
     "name": "stdout",
     "output_type": "stream",
     "text": [
      "Index location of the biggest number is 4\n"
     ]
    }
   ],
   "source": [
    "print(f\"Index location of the biggest number is {nums_array.argmax()}\")"
   ]
  },
  {
   "cell_type": "code",
   "execution_count": 45,
   "id": "de63cf83-9c84-497c-873d-ce4eb47882f5",
   "metadata": {},
   "outputs": [
    {
     "name": "stdout",
     "output_type": "stream",
     "text": [
      "Index location of the smallest number is 0\n"
     ]
    }
   ],
   "source": [
    "print(f\"Index location of the smallest number is {nums_array.argmin()}\")"
   ]
  }
 ],
 "metadata": {
  "kernelspec": {
   "display_name": "Python 3 (ipykernel)",
   "language": "python",
   "name": "python3"
  },
  "language_info": {
   "codemirror_mode": {
    "name": "ipython",
    "version": 3
   },
   "file_extension": ".py",
   "mimetype": "text/x-python",
   "name": "python",
   "nbconvert_exporter": "python",
   "pygments_lexer": "ipython3",
   "version": "3.12.7"
  }
 },
 "nbformat": 4,
 "nbformat_minor": 5
}
